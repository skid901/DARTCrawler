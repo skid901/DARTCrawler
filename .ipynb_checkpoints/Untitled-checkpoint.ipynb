{
 "cells": [
  {
   "cell_type": "code",
   "execution_count": null,
   "metadata": {},
   "outputs": [],
   "source": [
    "from selenium import webdriver\n",
    "from selenium.webdriver.common.by import By\n",
    "from selenium.webdriver.support.ui import WebDriverWait\n",
    "from selenium.webdriver.support import expected_conditions as EC\n",
    "from selenium.common.exceptions import NoSuchElementException\n",
    "from bs4 import BeautifulSoup\n",
    "from urllib.request import urlopen\n",
    "import re\n",
    "from collections import OrderedDict\n",
    "import json\n",
    "import pandas as pd\n",
    "from pandas.io.json import json_normalize"
   ]
  },
  {
   "cell_type": "markdown",
   "metadata": {},
   "source": [
    "함수의 입력 값(파라미터) 설정"
   ]
  },
  {
   "cell_type": "code",
   "execution_count": null,
   "metadata": {},
   "outputs": [],
   "source": [
    "rcp_info = ['', '', '']  # 기업 명, 년도, 기업 고유 번호\n",
    "index = 0  # 기업 데이터 인덱스"
   ]
  },
  {
   "cell_type": "markdown",
   "metadata": {},
   "source": [
    "고유번호를 통해 기업 재무제표 창을 열어, 각 재무제표의 url을 획득"
   ]
  },
  {
   "cell_type": "code",
   "execution_count": null,
   "metadata": {},
   "outputs": [],
   "source": [
    "# 에러 메세지 관련 변수 선언\n",
    "error_mesg = str(index)\n",
    "error_status = 0\n",
    "# 재무제표 재무 데이터를 저장하는 JSON(파이썬 딕셔너리) 변수 생성\n",
    "report_json = OrderedDict()\n",
    "# 재무제표 메타 데이터를 저장\n",
    "report_json['회사명'] = rcp_info[0]\n",
    "report_json['년도'] = int(rcp_info_list[4][:4]) - 1\n",
    "# 레포트 html문서로 부터, 필요한 세부 레포트 url을 저장할 딕셔너리 생성\n",
    "report_dict = {'재무상태표': None, '대차대조표': None, '손익계산서': None, '현금흐름표': None}\n",
    "# 보고서 접수번호\n",
    "rcpNo = rcp_info[3]  # '20120404001355'\n",
    "# 보고서 url\n",
    "report_url = 'http://dart.fss.or.kr/dsaf001/main.do?rcpNo=' + rcpNo\n",
    "'''\n",
    "# geckodriver(파이어폭스 버전) 설치경로를 할당하여, 웹드라이버 실행\n",
    "executable_path = \"C:\\itStudy\\Web\\geckodriver-v0.21.0-win64\\geckodriver.exe\"\n",
    "driver = webdriver.Firefox(executable_path = executable_path)\n",
    "'''\n",
    "# PhantomJS 설치경로를 할당하여, 웹 드라이버 실행\n",
    "executable_path = \"C:\\itStudy\\Web\\phantomjs-2.1.1-windows\\\\bin\\phantomjs.exe\"\n",
    "driver = webdriver.PhantomJS(executable_path)\n",
    "\n",
    "# 웹 드라이버를 통해, 보고서 url로 html 요청\n",
    "driver.get(report_url)\n",
    "try:\n",
    "    # 서버 응답 대기(타임아웃 10초)\n",
    "    element = WebDriverWait(driver, 10).until(\n",
    "        EC.presence_of_element_located( (By.ID, 'ifrm') )\n",
    "    )\n",
    "    # 웹 드라이버의 현재 페이지 html 문서로 BeatifulSoup 객체 생성\n",
    "    main_bsObj = BeautifulSoup(driver.page_source)\n",
    "    # 첫 페이지에서 필요한 보고서로 이동하는 <a href=\"#\"> 태그 리스트 저장\n",
    "    # *주의: geckodriver(파이어폭스 버전)을 사용하는 경우, <a> 태그 의 href 속성값을 \"\"로 설정\n",
    "    anchorList = main_bsObj.find_all( 'a', {'href': '#'} )\n",
    "    # checkpoint 1\n",
    "    #print( 'checkpoint 1 >>', anchorList )\n",
    "    # 필요한 <a> 태그 index, text 저장 리스트(타겟 리스트) 생성\n",
    "    targetAList = []\n",
    "    # 목적에 적합한 <a> 태그 탐색\n",
    "    for anchor in anchorList:\n",
    "        # a 태그의 text를 공백 제거 후 저장\n",
    "        anchorText = anchor.get_text().replace(' ', '')\n",
    "        # a 태그의 text가 재무제표 유형 리스트에 포함되면 해당 <a> 태그의 index 저장\n",
    "        if anchorText in report_dict.keys():\n",
    "            # checkpoint 2\n",
    "            #print( 'checkpoint 2 >> %d번째 <a href=\"#\">: %s' % (anchorList.index(anchor), anchorText) )\n",
    "            # 적합한 <a> 태그 메타 데이터(보고서 유형)를 타겟 리스트에 저장\n",
    "            targetAList.append([anchorList.index(anchor), anchorText])\n",
    "    # 타겟 리스트를 순회하여, 각 보고서 url 저장\n",
    "    for index, reportName in targetAList:\n",
    "        # 보고서에서 각 항목 데이터에 접근하는 <a> 태그에서 필요한 항목이 저장된  index만 접근 \n",
    "        driver.find_elements_by_xpath('//a[@href=\"#\"]')[index].click()\n",
    "        # 로딩 대기(2초)\n",
    "        driver.implicitly_wait(2)\n",
    "        # 각 보고서 화면으로 부터 재무 데이터 url을 포함한 <iframe> 태그에서 scr 속성값 획득\n",
    "        target_url = BeautifulSoup(driver.page_source).find('iframe')['src']\n",
    "        # 속성값에서 불필요한 부분 문자열 제거\n",
    "        report_dict[reportName] = target_url.replace('amp;', '')\n",
    "finally:\n",
    "    # 웹 드라이버 종료\n",
    "    driver.close()"
   ]
  },
  {
   "cell_type": "markdown",
   "metadata": {},
   "source": [
    "획득한 url을 통해 제무 데이터를 포함한 html 문서를 획득"
   ]
  },
  {
   "cell_type": "code",
   "execution_count": null,
   "metadata": {},
   "outputs": [],
   "source": [
    "# 세부 제무 보고서 BeautifulSoup 객체를 저장하는 변수 선언\n",
    "finance_position_bsObj = None  # 재무상태표(구 대차대조표)\n",
    "income_statement_bsObj = None  # 손익계산서\n",
    "cash_flow_bsObj = None  # 현금흐름표\n",
    "# 각 세부 보고서 url에서 재무 데이터 추출\n",
    "for reportName, reportURL in report_dict.items():\n",
    "    # 세부 보고서 url을 수집하지 못했다면 데이터 추출 skip\n",
    "    if reportURL == None:\n",
    "        continue\n",
    "    # checkpoint 3\n",
    "    #print('checkpoint 3 >>', reportName, reportURL)\n",
    "    # DART domain url\n",
    "    domain = 'https://dart.fss.or.kr/'\n",
    "    # 재무상태표(대차대조표)에서 재무 데이터 추출\n",
    "    if reportName in ('재무상태표', '대차대조표'):\n",
    "        reportHTML = urlopen(domain + reportURL)\n",
    "        finance_position_bsObj = BeautifulSoup(reportHTML, 'html.parser')\n",
    "    elif reportName == '손익계산서':\n",
    "        reportHTML = urlopen(domain + reportURL)\n",
    "        income_statement_bsObj = BeautifulSoup(reportHTML, 'html.parser')\n",
    "    elif reportName == '현금흐름표':\n",
    "        reportHTML = urlopen(domain + reportURL)\n",
    "        cash_flow_bsObj = BeautifulSoup(reportHTML, 'html.parser')"
   ]
  }
 ],
 "metadata": {
  "kernelspec": {
   "display_name": "Python 3",
   "language": "python",
   "name": "python3"
  },
  "language_info": {
   "codemirror_mode": {
    "name": "ipython",
    "version": 3
   },
   "file_extension": ".py",
   "mimetype": "text/x-python",
   "name": "python",
   "nbconvert_exporter": "python",
   "pygments_lexer": "ipython3",
   "version": "3.6.5"
  }
 },
 "nbformat": 4,
 "nbformat_minor": 2
}
