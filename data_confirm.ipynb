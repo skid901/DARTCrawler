{
 "cells": [
  {
   "cell_type": "code",
   "execution_count": 1,
   "metadata": {},
   "outputs": [],
   "source": [
    "import json\n",
    "import pandas as pd\n",
    "from pandas.io.json import json_normalize"
   ]
  },
  {
   "cell_type": "code",
   "execution_count": 4,
   "metadata": {},
   "outputs": [],
   "source": [
    "json_string = ''\n",
    "with open('report_list.json') as f3:\n",
    "    while True:\n",
    "        line = f3.readline()\n",
    "        if not line: break\n",
    "        json_string += line\n",
    "json_obj = json.loads(json_string)\n",
    "df = json_normalize(json_obj)"
   ]
  },
  {
   "cell_type": "code",
   "execution_count": 5,
   "metadata": {},
   "outputs": [
    {
     "data": {
      "text/plain": [
       "['년도',\n",
       " '손익계산서.금융비용',\n",
       " '손익계산서.당기순손실',\n",
       " '손익계산서.당기순이익',\n",
       " '손익계산서.매출액',\n",
       " '손익계산서.매출원가',\n",
       " '손익계산서.영업손실',\n",
       " '손익계산서.영업이익',\n",
       " '손익계산서.이자비용',\n",
       " '손익계산서.이자수익',\n",
       " '재무상태표.매출채권',\n",
       " '재무상태표.부채총계',\n",
       " '재무상태표.자본총계',\n",
       " '재무상태표.자산총계',\n",
       " '재무상태표.재고자산',\n",
       " '재무상태표.총차입금',\n",
       " '현금흐름표.영업활동으로인한현금흐름',\n",
       " '현금흐름표.재무활동으로인한현금흐름',\n",
       " '현금흐름표.투자활동으로인한현금흐름',\n",
       " '회사명']"
      ]
     },
     "execution_count": 5,
     "metadata": {},
     "output_type": "execute_result"
    }
   ],
   "source": [
    "df.columns.values.tolist()"
   ]
  },
  {
   "cell_type": "code",
   "execution_count": 6,
   "metadata": {},
   "outputs": [],
   "source": [
    "df.to_excel('report_list.xlsx', sheet_name='sheet1')"
   ]
  }
 ],
 "metadata": {
  "kernelspec": {
   "display_name": "Python 3",
   "language": "python",
   "name": "python3"
  },
  "language_info": {
   "codemirror_mode": {
    "name": "ipython",
    "version": 3
   },
   "file_extension": ".py",
   "mimetype": "text/x-python",
   "name": "python",
   "nbconvert_exporter": "python",
   "pygments_lexer": "ipython3",
   "version": "3.6.5"
  }
 },
 "nbformat": 4,
 "nbformat_minor": 2
}
